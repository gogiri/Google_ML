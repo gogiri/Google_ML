{
 "cells": [
  {
   "cell_type": "code",
   "execution_count": 1,
   "id": "14e891c7-1779-4439-bc7e-8b45b5dbb7e7",
   "metadata": {},
   "outputs": [],
   "source": [
    "# 모델 구축\n",
    "# 입력값 토큰화, 임베딩\n",
    "# 훈련을 정의하고 학습\n",
    "# 평가\n",
    "# 예측하기 위한 데이터를 토큰화, 임베딩후 predict\n",
    "# 라벨 출력"
   ]
  },
  {
   "cell_type": "code",
   "execution_count": 2,
   "id": "07e36c22-4758-4938-8b4b-36fdbb613db3",
   "metadata": {},
   "outputs": [],
   "source": [
    "from tensorflow.keras.models import Model\n",
    "from tensorflow.keras.layers import Input, LSTM, Dense"
   ]
  },
  {
   "cell_type": "code",
   "execution_count": 3,
   "id": "a450264a-06f2-4a52-ad42-145ffc1f6cbc",
   "metadata": {},
   "outputs": [
    {
     "name": "stdout",
     "output_type": "stream",
     "text": [
      "Model: \"model\"\n",
      "__________________________________________________________________________________________________\n",
      " Layer (type)                Output Shape                 Param #   Connected to                  \n",
      "==================================================================================================\n",
      " input_1 (InputLayer)        [(None, 4, 171)]             0         []                            \n",
      "                                                                                                  \n",
      " input_2 (InputLayer)        [(None, 3, 171)]             0         []                            \n",
      "                                                                                                  \n",
      " lstm (LSTM)                 [(None, 128),                153600    ['input_1[0][0]']             \n",
      "                              (None, 128),                                                        \n",
      "                              (None, 128)]                                                        \n",
      "                                                                                                  \n",
      " lstm_1 (LSTM)               (None, 3, 128)               153600    ['input_2[0][0]',             \n",
      "                                                                     'lstm[0][1]',                \n",
      "                                                                     'lstm[0][2]']                \n",
      "                                                                                                  \n",
      " dense (Dense)               (None, 3, 171)               22059     ['lstm_1[0][0]']              \n",
      "                                                                                                  \n",
      "==================================================================================================\n",
      "Total params: 329259 (1.26 MB)\n",
      "Trainable params: 329259 (1.26 MB)\n",
      "Non-trainable params: 0 (0.00 Byte)\n",
      "__________________________________________________________________________________________________\n"
     ]
    }
   ],
   "source": [
    "enc_IN = Input(shape=(4, 171)) # 영문 단어가 입력, 영문 단어는 4자짜리, 모든 문자의 수는 171개\n",
    "\n",
    "# hidden state와 cell state를 전달해야 하므로 return_state=True 추가\n",
    "_, state_h, state_c = LSTM(128, return_state=True)(enc_IN) \n",
    "\n",
    "# link = [state_h, state_c]\n",
    "dec_IN = Input(shape=(3, 171)) # 한글 단어는 2자짜리+<Start>, 모든 문자의 수는 171개\n",
    "\n",
    "# LSTM 모든 단의 출력을 사용해야 하므로 return_sequences=True 추가\n",
    "dec_Y = LSTM(128, return_sequences=True)(dec_IN, initial_state=[state_h, state_c]) \n",
    "\n",
    "dec_OUT = Dense(171, activation='softmax')(dec_Y)\n",
    "model = Model(inputs=[enc_IN, dec_IN], outputs=[dec_OUT])\n",
    "\n",
    "model.summary()"
   ]
  },
  {
   "cell_type": "code",
   "execution_count": null,
   "id": "8468eedd-f7cc-4073-98a1-5f22e18ef776",
   "metadata": {},
   "outputs": [],
   "source": []
  }
 ],
 "metadata": {
  "kernelspec": {
   "display_name": "tf2.14",
   "language": "python",
   "name": "tf2.14"
  },
  "language_info": {
   "codemirror_mode": {
    "name": "ipython",
    "version": 3
   },
   "file_extension": ".py",
   "mimetype": "text/x-python",
   "name": "python",
   "nbconvert_exporter": "python",
   "pygments_lexer": "ipython3",
   "version": "3.11.9"
  }
 },
 "nbformat": 4,
 "nbformat_minor": 5
}
