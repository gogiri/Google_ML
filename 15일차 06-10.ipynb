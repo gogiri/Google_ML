{
 "cells": [
  {
   "cell_type": "markdown",
   "id": "810b24ba-583e-4809-9c95-ab6dbca3d534",
   "metadata": {},
   "source": [
    "# 로이터 기사 데이터셋을 불러와 분류"
   ]
  },
  {
   "cell_type": "code",
   "execution_count": 1,
   "id": "07a2f6c0-bb74-43bf-9ee2-20af46aa2fb0",
   "metadata": {},
   "outputs": [],
   "source": [
    "NUM_WORDS = 2500"
   ]
  },
  {
   "cell_type": "code",
   "execution_count": 2,
   "id": "f1212eaa-db9a-4684-b5df-8656e258fead",
   "metadata": {},
   "outputs": [
    {
     "name": "stdout",
     "output_type": "stream",
     "text": [
      "(8982,) (8982,) (2246,) (2246,)\n"
     ]
    }
   ],
   "source": [
    "# 데이터셋 불러오기\n",
    "from tensorflow.keras.datasets import reuters\n",
    "(X_train, y_train), (X_test, y_test) = reuters.load_data(num_words=NUM_WORDS)\n",
    "print(X_train.shape, y_train.shape, X_test.shape, y_test.shape)"
   ]
  },
  {
   "cell_type": "code",
   "execution_count": 3,
   "id": "1268ddb8-55f1-404d-837e-2deca0b42d62",
   "metadata": {},
   "outputs": [
    {
     "name": "stdout",
     "output_type": "stream",
     "text": [
      "46 ('cocoa', 'grain', 'veg-oil', 'earn', 'acq', 'wheat', 'copper', 'housing', 'money-supply', 'coffee', 'sugar', 'trade', 'reserves', 'ship', 'cotton', 'carcass', 'crude', 'nat-gas', 'cpi', 'money-fx', 'interest', 'gnp', 'meal-feed', 'alum', 'oilseed', 'gold', 'tin', 'strategic-metal', 'livestock', 'retail', 'ipi', 'iron-steel', 'rubber', 'heat', 'jobs', 'lei', 'bop', 'zinc', 'orange', 'pet-chem', 'dlr', 'gas', 'silver', 'wpi', 'hog', 'lead')\n"
     ]
    }
   ],
   "source": [
    "# 데이터 라벨 확인하기\n",
    "labels = reuters.get_label_names()\n",
    "print(len(labels), labels)"
   ]
  },
  {
   "cell_type": "code",
   "execution_count": 4,
   "id": "d77d0cc1-e991-4f19-b033-f80b5a766076",
   "metadata": {},
   "outputs": [
    {
     "name": "stdout",
     "output_type": "stream",
     "text": [
      "0 cocoa 55\n",
      "1 grain 432\n",
      "2 veg-oil 74\n",
      "3 earn 3159\n",
      "4 acq 1949\n",
      "5 wheat 17\n",
      "6 copper 48\n",
      "7 housing 16\n",
      "8 money-supply 139\n",
      "9 coffee 101\n",
      "10 sugar 124\n",
      "11 trade 390\n",
      "12 reserves 49\n",
      "13 ship 172\n",
      "14 cotton 26\n",
      "15 carcass 20\n",
      "16 crude 444\n",
      "17 nat-gas 39\n",
      "18 cpi 66\n",
      "19 money-fx 549\n",
      "20 interest 269\n",
      "21 gnp 100\n",
      "22 meal-feed 15\n",
      "23 alum 41\n",
      "24 oilseed 62\n",
      "25 gold 92\n",
      "26 tin 24\n",
      "27 strategic-metal 15\n",
      "28 livestock 48\n",
      "29 retail 19\n",
      "30 ipi 45\n",
      "31 iron-steel 39\n",
      "32 rubber 32\n",
      "33 heat 11\n",
      "34 jobs 50\n",
      "35 lei 10\n",
      "36 bop 49\n",
      "37 zinc 19\n",
      "38 orange 19\n",
      "39 pet-chem 24\n",
      "40 dlr 36\n",
      "41 gas 30\n",
      "42 silver 13\n",
      "43 wpi 21\n",
      "44 hog 12\n",
      "45 lead 18\n"
     ]
    }
   ],
   "source": [
    "# 데이터 라벨 확인하기\n",
    "import numpy as np\n",
    "index, counts = np.unique(y_train, return_counts=True)\n",
    "for i in range(len(labels)):\n",
    "    print(i, labels[i], counts[i])"
   ]
  },
  {
   "cell_type": "code",
   "execution_count": 5,
   "id": "d47cdb69-0db2-4de7-86ff-f9f7cf6b0d77",
   "metadata": {},
   "outputs": [
    {
     "name": "stdout",
     "output_type": "stream",
     "text": [
      "Model: \"sequential\"\n",
      "_________________________________________________________________\n",
      " Layer (type)                Output Shape              Param #   \n",
      "=================================================================\n",
      " conv2d (Conv2D)             (None, 48, 48, 32)        320       \n",
      "                                                                 \n",
      " max_pooling2d (MaxPooling2  (None, 24, 24, 32)        0         \n",
      " D)                                                              \n",
      "                                                                 \n",
      " conv2d_1 (Conv2D)           (None, 22, 22, 64)        18496     \n",
      "                                                                 \n",
      " max_pooling2d_1 (MaxPoolin  (None, 11, 11, 64)        0         \n",
      " g2D)                                                            \n",
      "                                                                 \n",
      " flatten (Flatten)           (None, 7744)              0         \n",
      "                                                                 \n",
      " dense (Dense)               (None, 512)               3965440   \n",
      "                                                                 \n",
      " dropout (Dropout)           (None, 512)               0         \n",
      "                                                                 \n",
      " dense_1 (Dense)             (None, 46)                23598     \n",
      "                                                                 \n",
      "=================================================================\n",
      "Total params: 4007854 (15.29 MB)\n",
      "Trainable params: 4007854 (15.29 MB)\n",
      "Non-trainable params: 0 (0.00 Byte)\n",
      "_________________________________________________________________\n"
     ]
    }
   ],
   "source": [
    "# DNN 모델 구현하가\n",
    "from tensorflow.keras.models import Sequential\n",
    "from tensorflow.keras.layers import Dense, Dropout, Conv2D, MaxPooling2D, Flatten\n",
    "\n",
    "model = Sequential()\n",
    "model.add(Conv2D(32, (3,3), input_shape=(50,50,1), activation='relu'))\n",
    "model.add(MaxPooling2D())\n",
    "model.add(Conv2D(64, (3,3), activation='relu'))\n",
    "model.add(MaxPooling2D())\n",
    "model.add(Flatten())\n",
    "model.add(Dense(512, activation='relu'))\n",
    "model.add(Dropout(0.5))\n",
    "#  model.add(Dense(256, activation='relu'))\n",
    "model.add(Dense(46, activation='softmax'))\n",
    "model.summary()"
   ]
  },
  {
   "cell_type": "code",
   "execution_count": 6,
   "id": "81affa52-08af-4320-a105-f70764a25586",
   "metadata": {},
   "outputs": [],
   "source": [
    "model.compile(loss=\"sparse_categorical_crossentropy\", optimizer=\"adam\", metrics=[\"accuracy\"])"
   ]
  },
  {
   "cell_type": "code",
   "execution_count": 7,
   "id": "cf358f60-d9d7-4ba3-ba99-89f8b68b0b27",
   "metadata": {},
   "outputs": [],
   "source": [
    "# 입력의 길이를 일정하게\n",
    "from tensorflow.keras.preprocessing.text import Tokenizer\n",
    "tok = Tokenizer(num_words=NUM_WORDS)\n",
    "X_train_tok = tok.sequences_to_matrix(X_train, mode='count')\n",
    "X_test_tok = tok.sequences_to_matrix(X_test, mode='count')"
   ]
  },
  {
   "cell_type": "code",
   "execution_count": 8,
   "id": "d9344599-aa54-40f8-80af-81e902745e4b",
   "metadata": {},
   "outputs": [
    {
     "data": {
      "text/plain": [
       "(numpy.ndarray, (8982, 2500))"
      ]
     },
     "execution_count": 8,
     "metadata": {},
     "output_type": "execute_result"
    }
   ],
   "source": [
    "type(X_train_tok), X_train_tok.shape"
   ]
  },
  {
   "cell_type": "code",
   "execution_count": 9,
   "id": "e6c3d261-ad6e-4dca-b7ad-316a3b30c9de",
   "metadata": {},
   "outputs": [],
   "source": [
    "X_train_2 = X_train_tok.reshape(-1, 50, 50, 1)"
   ]
  },
  {
   "cell_type": "code",
   "execution_count": 10,
   "id": "0f207be0-908f-444d-af36-df5bffd4b8a1",
   "metadata": {
    "scrolled": true
   },
   "outputs": [
    {
     "name": "stdout",
     "output_type": "stream",
     "text": [
      "Epoch 1/20\n",
      "141/141 [==============================] - 7s 45ms/step - loss: 1.8665 - accuracy: 0.5559\n",
      "Epoch 2/20\n",
      "141/141 [==============================] - 7s 46ms/step - loss: 1.0751 - accuracy: 0.7445\n",
      "Epoch 3/20\n",
      "141/141 [==============================] - 6s 46ms/step - loss: 0.7604 - accuracy: 0.8143\n",
      "Epoch 4/20\n",
      "141/141 [==============================] - 7s 46ms/step - loss: 0.5979 - accuracy: 0.8540\n",
      "Epoch 5/20\n",
      "141/141 [==============================] - 8s 60ms/step - loss: 0.4732 - accuracy: 0.8781\n",
      "Epoch 6/20\n",
      "141/141 [==============================] - 8s 60ms/step - loss: 0.3879 - accuracy: 0.9022\n",
      "Epoch 7/20\n",
      "141/141 [==============================] - 9s 60ms/step - loss: 0.3229 - accuracy: 0.9185\n",
      "Epoch 8/20\n",
      "141/141 [==============================] - 8s 60ms/step - loss: 0.2713 - accuracy: 0.9305\n",
      "Epoch 9/20\n",
      "141/141 [==============================] - 8s 60ms/step - loss: 0.2812 - accuracy: 0.9305\n",
      "Epoch 10/20\n",
      "141/141 [==============================] - 9s 60ms/step - loss: 0.2474 - accuracy: 0.9370\n",
      "Epoch 11/20\n",
      "141/141 [==============================] - 9s 60ms/step - loss: 0.2220 - accuracy: 0.9456\n",
      "Epoch 12/20\n",
      "141/141 [==============================] - 8s 60ms/step - loss: 0.2221 - accuracy: 0.9421\n",
      "Epoch 13/20\n",
      "141/141 [==============================] - 8s 60ms/step - loss: 0.2074 - accuracy: 0.9444\n",
      "Epoch 14/20\n",
      "141/141 [==============================] - 8s 60ms/step - loss: 0.2115 - accuracy: 0.9444\n",
      "Epoch 15/20\n",
      "141/141 [==============================] - 8s 60ms/step - loss: 0.1963 - accuracy: 0.9488\n",
      "Epoch 16/20\n",
      "141/141 [==============================] - 8s 60ms/step - loss: 0.1832 - accuracy: 0.9515\n",
      "Epoch 17/20\n",
      "141/141 [==============================] - 8s 60ms/step - loss: 0.1797 - accuracy: 0.9498\n",
      "Epoch 18/20\n",
      "141/141 [==============================] - 8s 60ms/step - loss: 0.1805 - accuracy: 0.9491\n",
      "Epoch 19/20\n",
      "141/141 [==============================] - 8s 60ms/step - loss: 0.1623 - accuracy: 0.9551\n",
      "Epoch 20/20\n",
      "141/141 [==============================] - 9s 61ms/step - loss: 0.1703 - accuracy: 0.9541\n"
     ]
    },
    {
     "data": {
      "text/plain": [
       "<keras.src.callbacks.History at 0x124c0f7c250>"
      ]
     },
     "execution_count": 10,
     "metadata": {},
     "output_type": "execute_result"
    }
   ],
   "source": [
    "# 모델 학습\n",
    "model.fit(X_train_2, y_train, epochs=20, batch_size=64)"
   ]
  },
  {
   "cell_type": "code",
   "execution_count": 12,
   "id": "a225892e-7ff4-42ff-a29b-3bd5711cf9cd",
   "metadata": {},
   "outputs": [
    {
     "name": "stdout",
     "output_type": "stream",
     "text": [
      "71/71 [==============================] - 1s 12ms/step - loss: 1.3291 - accuracy: 0.7809\n"
     ]
    },
    {
     "data": {
      "text/plain": [
       "[1.329054355621338, 0.7809438705444336]"
      ]
     },
     "execution_count": 12,
     "metadata": {},
     "output_type": "execute_result"
    }
   ],
   "source": [
    "# 모델 평가\n",
    "X_test_2 = X_test_tok.reshape(-1, 50, 50, 1)\n",
    "model.evaluate(X_test_2, y_test)"
   ]
  },
  {
   "cell_type": "code",
   "execution_count": 14,
   "id": "abc2db44-96a5-483b-81da-01dc21881ee6",
   "metadata": {},
   "outputs": [
    {
     "name": "stdout",
     "output_type": "stream",
     "text": [
      "1/1 [==============================] - 0s 65ms/step\n",
      "3 [3] earn\n"
     ]
    }
   ],
   "source": [
    "# 샘플 데이터를 이용한 예측\n",
    "sample_no = 333\n",
    "# X_train_tok[sample_no].reshape(-1, NUM_WORDS).shape\n",
    "sample = X_train_tok[sample_no].reshape(-1, 50, 50, 1)\n",
    "pred = model.predict(sample)\n",
    "y_pred = np.argmax(pred, axis=1)\n",
    "print(y_test[sample_no], y_pred, labels[y_pred[0]])"
   ]
  },
  {
   "cell_type": "code",
   "execution_count": null,
   "id": "a162aa3f-0eda-44a5-b4ab-630622d2a6ed",
   "metadata": {},
   "outputs": [],
   "source": []
  }
 ],
 "metadata": {
  "kernelspec": {
   "display_name": "tf2.14",
   "language": "python",
   "name": "tf2.14"
  },
  "language_info": {
   "codemirror_mode": {
    "name": "ipython",
    "version": 3
   },
   "file_extension": ".py",
   "mimetype": "text/x-python",
   "name": "python",
   "nbconvert_exporter": "python",
   "pygments_lexer": "ipython3",
   "version": "3.11.9"
  }
 },
 "nbformat": 4,
 "nbformat_minor": 5
}
