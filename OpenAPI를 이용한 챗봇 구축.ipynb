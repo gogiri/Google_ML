{
 "cells": [
  {
   "cell_type": "code",
   "execution_count": 1,
   "id": "c8cef7ae-4822-4333-8bfa-8956db42d5a4",
   "metadata": {},
   "outputs": [],
   "source": [
    "from openai import OpenAI\n",
    "client = OpenAI(\n",
    "    api_key=\"\"\n",
    ")"
   ]
  },
  {
   "cell_type": "code",
   "execution_count": 13,
   "id": "9b1b5f53-fa46-4bbd-8219-975a5efdd49c",
   "metadata": {},
   "outputs": [
    {
     "name": "stdout",
     "output_type": "stream",
     "text": [
      "1, 2, 3, 4, 5, 6, 7, 8, 9, 10, 11, 12, 13, 14, 15, 16, 17, 18, 19, 20, 21, 22, 23, 24, 25, 26, 27, 28, 29, 30, 31, 32, 33, 34, 35, 36, 37, 38, 39, 40, 41, 42, 43, 44, 45, 46, 47, 48, 49, 50, 51, 52, 53, 54, 55, 56, 57, 58, 59, 60, 61, 62, 63, 64, 65, 66, 67, 68, 69, 70, 71, 72, 73, 74, 75, 76, 77, 78, 79, 80, 81, 82, 83, 84, 85, 86, 87, 88, 89, 90, 91, 92, 93, 94, 95, 96, 97, 98, 99, 100NoneCPU times: total: 31.2 ms\n",
      "Wall time: 4.68 s\n"
     ]
    }
   ],
   "source": [
    "%%time\n",
    "response = client.chat.completions.create(\n",
    "    model = 'gpt-3.5-turbo',\n",
    "    messages = [{'role':'user', 'content':'줄바꿈 없이 숫자를 콤마(,)로 구분하고 1부터 100까지 숫자를 세줘. 예를들면: 1, 2, 3, ..'}],\n",
    "    temperature=0,\n",
    "    stream=True\n",
    ")\n",
    "for chunk in response:\n",
    "    print(chunk.choices[0].delta.content, end='')\n",
    "    # print(\"-------------\")"
   ]
  },
  {
   "cell_type": "code",
   "execution_count": 10,
   "id": "7d8e8908-d47f-4fdb-8ed2-338f35b2c998",
   "metadata": {},
   "outputs": [
    {
     "name": "stdout",
     "output_type": "stream",
     "text": [
      "1, 2, 3, 4, 5, 6, 7, 8, 9, 10, 11, 12, 13, 14, 15, 16, 17, 18, 19, 20, 21, 22, 23, 24, 25, 26, 27, 28, 29, 30, 31, 32, 33, 34, 35, 36, 37, 38, 39, 40, 41, 42, 43, 44, 45, 46, 47, 48, 49, 50, 51, 52, 53, 54, 55, 56, 57, 58, 59, 60, 61, 62, 63, 64, 65, 66, 67, 68, 69, 70, 71, 72, 73, 74, 75, 76, 77, 78, 79, 80, 81, 82, 83, 84, 85, 86, 87, 88, 89, 90, 91, 92, 93, 94, 95, 96, 97, 98, 99, 100\n"
     ]
    }
   ],
   "source": [
    "print(response.choices[0].message.content)"
   ]
  },
  {
   "cell_type": "code",
   "execution_count": 15,
   "id": "35e3e45f-f46b-4a63-b84a-b76bd5ce04ed",
   "metadata": {},
   "outputs": [
    {
     "name": "stdout",
     "output_type": "stream",
     "text": [
      "사용자:  오늘 뭐 먹을까?\n"
     ]
    },
    {
     "name": "stdout",
     "output_type": "stream",
     "text": [
      "ChatGPT: 오늘은 뭘 먹고 싶으세요? 한식, 중식, 양식, 일식 등 다양한 음식 중에 고민해보세요. 혹은 어떤 음식이 땡기는지 제가 추천해드릴까요?\n"
     ]
    },
    {
     "name": "stdout",
     "output_type": "stream",
     "text": [
      "사용자:  오늘은 중식이 먹고싶어.\n"
     ]
    },
    {
     "name": "stdout",
     "output_type": "stream",
     "text": [
      "ChatGPT: 중식 메뉴로는 중국 요리, 일본 요리, 태국 요리, 베트남 요리 등 다양한 종류가 있습니다. 중식 중에서도 어떤 음식이 좋을지 알려주시면 해당 음식에 대한 정보와 레시피를 제공해드릴게요. 혹은 중국 요리, 일본 요리, 태국 요리, 베트남 요리 중 어떤 나라의 음식을 드시고 싶으신가요?\n"
     ]
    },
    {
     "name": "stdout",
     "output_type": "stream",
     "text": [
      "사용자:  아무거나 추천해줘\n"
     ]
    },
    {
     "name": "stdout",
     "output_type": "stream",
     "text": [
      "ChatGPT: 그럼 중식 중에서 대표적인 메뉴인 중국 요리 중 한 가지를 추천해드릴게요. 오늘은 매콤하고 고소한 맛이 일품인 \"마파두부\"를 추천해 드려요. \n",
      "\n",
      "마파두부는 중국 요리의 대표적인 요리 중 하나로, 두부와 소고기를 함께 볶아 매콤한 양념과 간장으로 조리한 요리입니다. 짭조름한 맛과 간장의 진한 풍미가 어우러져 맛있는 요리이니 한번 즐겨보시는 건 어떨까요? 마파두부와 밥을 함께 먹으면 더욱 맛있습니다. 매운 맛을 좋아하신다면 청양고추를 추가로 넣어 시원한 한끼 식사로 만들어보세요. 맛있게 드실 걸 확신합니다!\n"
     ]
    },
    {
     "name": "stdout",
     "output_type": "stream",
     "text": [
      "사용자:  종료\n"
     ]
    }
   ],
   "source": [
    "messages = []\n",
    "while True:\n",
    "    content = input('사용자: ')\n",
    "    if(content=='종료'):\n",
    "        break\n",
    "\n",
    "    messages.append({'role':'user', 'content':content})\n",
    "\n",
    "    response = client.chat.completions.create(\n",
    "        model='gpt-3.5-turbo',\n",
    "        messages=messages\n",
    "    )\n",
    "    chat_response = response.choices[0].message.content\n",
    "    print(f'ChatGPT: {chat_response}')\n",
    "    messages.append({'role':'assistant', 'content':chat_response})"
   ]
  },
  {
   "cell_type": "code",
   "execution_count": 16,
   "id": "0d0f951a-9e38-4cae-a0d8-8e5e356d39da",
   "metadata": {},
   "outputs": [],
   "source": [
    "movie_prompt = \"\"\"당신은 영화 추천을 위해 훈련된 고도로 숙련된 AI입니다.\n",
    "내가 입력한 단어 또는 문장을 기반으로 영화를 추천해야 합니다.\n",
    "내가 입력한 단어 또는 문장에는 나의 관심사와 성별, 연령대, 지역 등의 개인정보가 포함될 수 있습니다.\n",
    "내가 어떤 영화의 제목을 입력하면 유사한 장르의 영화를 추천하세요.\n",
    "감독 또는 배우의 이름을 입력하면 그 배우가 참여한 다른 영화를 추천하세요.\n",
    "개인정보를 입력하면 그 그룹에서 인기있는 영화를 추천하세요.\n",
    "영화 추천은 3편~5편을 해주고, 목록 형식으로 추천해주세요.\n",
    "항상 마지막에 `더 많은 정보를 입력하겠습니까?`을 출력해서 영화 추천을 계속 할 지 말지를 결정할 수 있도록 해야 합니다.\n",
    "\"\"\""
   ]
  },
  {
   "cell_type": "code",
   "execution_count": 17,
   "id": "7385939b-182d-4fcf-9672-19ba6b7f7911",
   "metadata": {},
   "outputs": [
    {
     "name": "stdout",
     "output_type": "stream",
     "text": [
      "당신의 관심사 또는 개인정보(성별, 연령대 등)을 입력하세요.(종료는 `q`입력):  서울 남자 40대\n"
     ]
    },
    {
     "name": "stdout",
     "output_type": "stream",
     "text": [
      "해당 정보를 기반으로 영화를 추천해 드리겠습니다.\n",
      "1. \"부산행\" - 좀비 아포칼립스 속에서 전하는 인간의 생존 본능을 그린 박찬욱 감독의 작품\n",
      "2. \"국가대표\" - 축구선수들의 이야기를 담은 감동적인 영화\n",
      "3. \"신과 함께\" 시리즈 - 죽은 영혼들이 지옥과 천국 사이에서 벌이는 이야기를 그린 판타지 영화\n",
      "\n",
      "더 많은 정보를 입력하시겠습니까?"
     ]
    },
    {
     "name": "stdout",
     "output_type": "stream",
     "text": [
      "추가 정보 입력(종료는 `q`):  인터스텔라\n"
     ]
    },
    {
     "name": "stdout",
     "output_type": "stream",
     "text": [
      "\"인터스텔라\"와 유사한 장르의 영화를 추천해 드리겠습니다.\n",
      "1. \"그라비티\" - 우주에서 생존을 건 공간 여행을 그린 장르 영화\n",
      "2. \"마션\" - 화성에서 살아남기 위한 우주 탐사 오딘의 이야기를 그린 SF 영화\n",
      "3. \"인셉션\" - 현실과 꿈 사이를 오가며 벌어지는 서스펜스와 액션으로 가득한 영화\n",
      "\n",
      "더 많은 정보를 입력하시겠습니까?"
     ]
    },
    {
     "name": "stdout",
     "output_type": "stream",
     "text": [
      "추가 정보 입력(종료는 `q`):  로멘스 영화를 추천해줘\n"
     ]
    },
    {
     "name": "stdout",
     "output_type": "stream",
     "text": [
      "로맨스 영화를 추천해 드리겠습니다.\n",
      "1. \"노트북\" -"
     ]
    },
    {
     "ename": "APIError",
     "evalue": "The server had an error processing your request. Sorry about that! You can retry your request, or contact us through our help center at help.openai.com if you keep seeing this error.",
     "output_type": "error",
     "traceback": [
      "\u001b[1;31m---------------------------------------------------------------------------\u001b[0m",
      "\u001b[1;31mAPIError\u001b[0m                                  Traceback (most recent call last)",
      "Cell \u001b[1;32mIn[17], line 14\u001b[0m\n\u001b[0;32m      7\u001b[0m response \u001b[38;5;241m=\u001b[39m client\u001b[38;5;241m.\u001b[39mchat\u001b[38;5;241m.\u001b[39mcompletions\u001b[38;5;241m.\u001b[39mcreate(\n\u001b[0;32m      8\u001b[0m     model \u001b[38;5;241m=\u001b[39m \u001b[38;5;124m'\u001b[39m\u001b[38;5;124mgpt-3.5-turbo\u001b[39m\u001b[38;5;124m'\u001b[39m,\n\u001b[0;32m      9\u001b[0m     messages \u001b[38;5;241m=\u001b[39m messages,\n\u001b[0;32m     10\u001b[0m     stream \u001b[38;5;241m=\u001b[39m \u001b[38;5;28;01mTrue\u001b[39;00m\n\u001b[0;32m     11\u001b[0m )\n\u001b[0;32m     13\u001b[0m collected_messages \u001b[38;5;241m=\u001b[39m []\n\u001b[1;32m---> 14\u001b[0m \u001b[43m\u001b[49m\u001b[38;5;28;43;01mfor\u001b[39;49;00m\u001b[43m \u001b[49m\u001b[43mchunk\u001b[49m\u001b[43m \u001b[49m\u001b[38;5;129;43;01min\u001b[39;49;00m\u001b[43m \u001b[49m\u001b[43mresponse\u001b[49m\u001b[43m:\u001b[49m\n\u001b[0;32m     15\u001b[0m \u001b[43m    \u001b[49m\u001b[43mchunk_message\u001b[49m\u001b[43m \u001b[49m\u001b[38;5;241;43m=\u001b[39;49m\u001b[43m \u001b[49m\u001b[43mchunk\u001b[49m\u001b[38;5;241;43m.\u001b[39;49m\u001b[43mchoices\u001b[49m\u001b[43m[\u001b[49m\u001b[38;5;241;43m0\u001b[39;49m\u001b[43m]\u001b[49m\u001b[38;5;241;43m.\u001b[39;49m\u001b[43mdelta\u001b[49m\u001b[38;5;241;43m.\u001b[39;49m\u001b[43mcontent\u001b[49m\n\u001b[0;32m     16\u001b[0m \u001b[43m    \u001b[49m\u001b[38;5;28;43;01mif\u001b[39;49;00m\u001b[43m(\u001b[49m\u001b[43mchunk_message\u001b[49m\u001b[43m \u001b[49m\u001b[38;5;241;43m==\u001b[39;49m\u001b[43m \u001b[49m\u001b[38;5;28;43;01mNone\u001b[39;49;00m\u001b[43m)\u001b[49m\u001b[43m:\u001b[49m\n",
      "File \u001b[1;32m~\\anaconda3\\envs\\tf2.14\\Lib\\site-packages\\openai\\_streaming.py:46\u001b[0m, in \u001b[0;36mStream.__iter__\u001b[1;34m(self)\u001b[0m\n\u001b[0;32m     45\u001b[0m \u001b[38;5;28;01mdef\u001b[39;00m \u001b[38;5;21m__iter__\u001b[39m(\u001b[38;5;28mself\u001b[39m) \u001b[38;5;241m-\u001b[39m\u001b[38;5;241m>\u001b[39m Iterator[_T]:\n\u001b[1;32m---> 46\u001b[0m \u001b[43m    \u001b[49m\u001b[38;5;28;43;01mfor\u001b[39;49;00m\u001b[43m \u001b[49m\u001b[43mitem\u001b[49m\u001b[43m \u001b[49m\u001b[38;5;129;43;01min\u001b[39;49;00m\u001b[43m \u001b[49m\u001b[38;5;28;43mself\u001b[39;49m\u001b[38;5;241;43m.\u001b[39;49m\u001b[43m_iterator\u001b[49m\u001b[43m:\u001b[49m\n\u001b[0;32m     47\u001b[0m \u001b[43m        \u001b[49m\u001b[38;5;28;43;01myield\u001b[39;49;00m\u001b[43m \u001b[49m\u001b[43mitem\u001b[49m\n",
      "File \u001b[1;32m~\\anaconda3\\envs\\tf2.14\\Lib\\site-packages\\openai\\_streaming.py:72\u001b[0m, in \u001b[0;36mStream.__stream__\u001b[1;34m(self)\u001b[0m\n\u001b[0;32m     69\u001b[0m         \u001b[38;5;28;01mif\u001b[39;00m \u001b[38;5;129;01mnot\u001b[39;00m message \u001b[38;5;129;01mor\u001b[39;00m \u001b[38;5;129;01mnot\u001b[39;00m \u001b[38;5;28misinstance\u001b[39m(message, \u001b[38;5;28mstr\u001b[39m):\n\u001b[0;32m     70\u001b[0m             message \u001b[38;5;241m=\u001b[39m \u001b[38;5;124m\"\u001b[39m\u001b[38;5;124mAn error occurred during streaming\u001b[39m\u001b[38;5;124m\"\u001b[39m\n\u001b[1;32m---> 72\u001b[0m         \u001b[38;5;28;01mraise\u001b[39;00m APIError(\n\u001b[0;32m     73\u001b[0m             message\u001b[38;5;241m=\u001b[39mmessage,\n\u001b[0;32m     74\u001b[0m             request\u001b[38;5;241m=\u001b[39m\u001b[38;5;28mself\u001b[39m\u001b[38;5;241m.\u001b[39mresponse\u001b[38;5;241m.\u001b[39mrequest,\n\u001b[0;32m     75\u001b[0m             body\u001b[38;5;241m=\u001b[39mdata[\u001b[38;5;124m\"\u001b[39m\u001b[38;5;124merror\u001b[39m\u001b[38;5;124m\"\u001b[39m],\n\u001b[0;32m     76\u001b[0m         )\n\u001b[0;32m     78\u001b[0m     \u001b[38;5;28;01myield\u001b[39;00m process_data(data\u001b[38;5;241m=\u001b[39mdata, cast_to\u001b[38;5;241m=\u001b[39mcast_to, response\u001b[38;5;241m=\u001b[39mresponse)\n\u001b[0;32m     80\u001b[0m \u001b[38;5;28;01melse\u001b[39;00m:\n",
      "\u001b[1;31mAPIError\u001b[0m: The server had an error processing your request. Sorry about that! You can retry your request, or contact us through our help center at help.openai.com if you keep seeing this error."
     ]
    }
   ],
   "source": [
    "messages = [{'role':'system', 'content':movie_prompt}]\n",
    "text = input('당신의 관심사 또는 개인정보(성별, 연령대 등)을 입력하세요.(종료는 `q`입력): ')\n",
    "while True:\n",
    "    if ('q'==text.lower() or 'ㅂ'==text):\n",
    "        break\n",
    "    messages.append({'role':'user', 'content':text})\n",
    "    response = client.chat.completions.create(\n",
    "        model = 'gpt-3.5-turbo',\n",
    "        messages = messages,\n",
    "        stream = True\n",
    "    )\n",
    "\n",
    "    collected_messages = []\n",
    "    for chunk in response:\n",
    "        chunk_message = chunk.choices[0].delta.content\n",
    "        if(chunk_message == None):\n",
    "            text = input('추가 정보 입력(종료는 `q`): ')\n",
    "        else:\n",
    "            collected_messages.append(chunk_message)\n",
    "            print(f'{chunk_message}', end='')\n",
    "            \n",
    "    fully_reply_content = ''.join(collected_messages)\n",
    "    messages.append({'role':'assistant', 'content': fully_reply_content})\n",
    "    "
   ]
  },
  {
   "cell_type": "code",
   "execution_count": 32,
   "id": "ba5f49d7-2298-4b54-b407-51feb2caa4ec",
   "metadata": {},
   "outputs": [
    {
     "data": {
      "text/html": [
       "<div>\n",
       "<style scoped>\n",
       "    .dataframe tbody tr th:only-of-type {\n",
       "        vertical-align: middle;\n",
       "    }\n",
       "\n",
       "    .dataframe tbody tr th {\n",
       "        vertical-align: top;\n",
       "    }\n",
       "\n",
       "    .dataframe thead th {\n",
       "        text-align: right;\n",
       "    }\n",
       "</style>\n",
       "<table border=\"1\" class=\"dataframe\">\n",
       "  <thead>\n",
       "    <tr style=\"text-align: right;\">\n",
       "      <th></th>\n",
       "      <th>Summary</th>\n",
       "      <th>Text</th>\n",
       "    </tr>\n",
       "    <tr>\n",
       "      <th>Id</th>\n",
       "      <th></th>\n",
       "      <th></th>\n",
       "    </tr>\n",
       "  </thead>\n",
       "  <tbody>\n",
       "    <tr>\n",
       "      <th>1</th>\n",
       "      <td>Good Quality Dog Food</td>\n",
       "      <td>I have bought several of the Vitality canned d...</td>\n",
       "    </tr>\n",
       "  </tbody>\n",
       "</table>\n",
       "</div>"
      ],
      "text/plain": [
       "                  Summary                                               Text\n",
       "Id                                                                          \n",
       "1   Good Quality Dog Food  I have bought several of the Vitality canned d..."
      ]
     },
     "execution_count": 32,
     "metadata": {},
     "output_type": "execute_result"
    }
   ],
   "source": [
    "import pandas as pd\n",
    "df = pd.read_csv('food-reviews-100.csv', index_col=0)\n",
    "df = df.loc[:, 'Summary':'Text']\n",
    "df.head(1)"
   ]
  },
  {
   "cell_type": "code",
   "execution_count": 33,
   "id": "e6357496-5136-4d17-9716-c013b350a7f4",
   "metadata": {},
   "outputs": [],
   "source": [
    "def get_embedding(text, model='text-embedding-ada-002'):\n",
    "    text = text.replace('\\n', ' ')\n",
    "    response = client.embeddings.create(\n",
    "        input=[text], model=model\n",
    "    )\n",
    "    return response.data[0].embedding"
   ]
  },
  {
   "cell_type": "code",
   "execution_count": 34,
   "id": "a9a4fe57-ca78-4f81-a091-904dad7ea7b2",
   "metadata": {},
   "outputs": [],
   "source": [
    "df['ada_embedding'] = df.Text.apply(lambda x: get_embedding(x))"
   ]
  },
  {
   "cell_type": "code",
   "execution_count": 39,
   "id": "7c5bdfa5-8909-4507-9352-18011089f5b8",
   "metadata": {},
   "outputs": [
    {
     "data": {
      "text/html": [
       "<div>\n",
       "<style scoped>\n",
       "    .dataframe tbody tr th:only-of-type {\n",
       "        vertical-align: middle;\n",
       "    }\n",
       "\n",
       "    .dataframe tbody tr th {\n",
       "        vertical-align: top;\n",
       "    }\n",
       "\n",
       "    .dataframe thead th {\n",
       "        text-align: right;\n",
       "    }\n",
       "</style>\n",
       "<table border=\"1\" class=\"dataframe\">\n",
       "  <thead>\n",
       "    <tr style=\"text-align: right;\">\n",
       "      <th></th>\n",
       "      <th>Summary</th>\n",
       "      <th>Text</th>\n",
       "      <th>ada_embedding</th>\n",
       "    </tr>\n",
       "    <tr>\n",
       "      <th>Id</th>\n",
       "      <th></th>\n",
       "      <th></th>\n",
       "      <th></th>\n",
       "    </tr>\n",
       "  </thead>\n",
       "  <tbody>\n",
       "    <tr>\n",
       "      <th>1</th>\n",
       "      <td>Good Quality Dog Food</td>\n",
       "      <td>I have bought several of the Vitality canned d...</td>\n",
       "      <td>[-0.003358639543876052, -0.0001156716825789772...</td>\n",
       "    </tr>\n",
       "    <tr>\n",
       "      <th>2</th>\n",
       "      <td>Not as Advertised</td>\n",
       "      <td>Product arrived labeled as Jumbo Salted Peanut...</td>\n",
       "      <td>[-0.01121523417532444, -0.010606351308524609, ...</td>\n",
       "    </tr>\n",
       "    <tr>\n",
       "      <th>3</th>\n",
       "      <td>\"Delight\" says it all</td>\n",
       "      <td>This is a confection that has been around a fe...</td>\n",
       "      <td>[0.014541142620146275, 0.009245972149074078, -...</td>\n",
       "    </tr>\n",
       "    <tr>\n",
       "      <th>4</th>\n",
       "      <td>Cough Medicine</td>\n",
       "      <td>If you are looking for the secret ingredient i...</td>\n",
       "      <td>[0.01721745729446411, 0.011209213174879551, -0...</td>\n",
       "    </tr>\n",
       "    <tr>\n",
       "      <th>5</th>\n",
       "      <td>Great taffy</td>\n",
       "      <td>Great taffy at a great price.  There was a wid...</td>\n",
       "      <td>[-0.015514101833105087, -0.00888021383434534, ...</td>\n",
       "    </tr>\n",
       "  </tbody>\n",
       "</table>\n",
       "</div>"
      ],
      "text/plain": [
       "                  Summary                                               Text  \\\n",
       "Id                                                                             \n",
       "1   Good Quality Dog Food  I have bought several of the Vitality canned d...   \n",
       "2       Not as Advertised  Product arrived labeled as Jumbo Salted Peanut...   \n",
       "3   \"Delight\" says it all  This is a confection that has been around a fe...   \n",
       "4          Cough Medicine  If you are looking for the secret ingredient i...   \n",
       "5             Great taffy  Great taffy at a great price.  There was a wid...   \n",
       "\n",
       "                                        ada_embedding  \n",
       "Id                                                     \n",
       "1   [-0.003358639543876052, -0.0001156716825789772...  \n",
       "2   [-0.01121523417532444, -0.010606351308524609, ...  \n",
       "3   [0.014541142620146275, 0.009245972149074078, -...  \n",
       "4   [0.01721745729446411, 0.011209213174879551, -0...  \n",
       "5   [-0.015514101833105087, -0.00888021383434534, ...  "
      ]
     },
     "execution_count": 39,
     "metadata": {},
     "output_type": "execute_result"
    }
   ],
   "source": [
    "df.head()"
   ]
  },
  {
   "cell_type": "code",
   "execution_count": null,
   "id": "6c217a4f-6c6f-4cb9-9c86-5ace4afea3b4",
   "metadata": {},
   "outputs": [],
   "source": []
  }
 ],
 "metadata": {
  "kernelspec": {
   "display_name": "tf2.14",
   "language": "python",
   "name": "tf2.14"
  },
  "language_info": {
   "codemirror_mode": {
    "name": "ipython",
    "version": 3
   },
   "file_extension": ".py",
   "mimetype": "text/x-python",
   "name": "python",
   "nbconvert_exporter": "python",
   "pygments_lexer": "ipython3",
   "version": "3.11.9"
  }
 },
 "nbformat": 4,
 "nbformat_minor": 5
}
