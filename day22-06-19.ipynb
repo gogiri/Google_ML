{
 "cells": [
  {
   "cell_type": "markdown",
   "id": "c76cd330-79ee-41b2-844f-ede60139f31a",
   "metadata": {},
   "source": [
    "# 데이터셋 불러오기"
   ]
  },
  {
   "cell_type": "code",
   "execution_count": 1,
   "id": "1754a4cd-6945-4e05-b4ed-0d8038ffb8d8",
   "metadata": {},
   "outputs": [],
   "source": [
    "from tensorflow.keras.datasets import mnist\n",
    "(train_images, _), (_, _) = mnist.load_data()"
   ]
  },
  {
   "cell_type": "code",
   "execution_count": 2,
   "id": "1ee95dc6-ce46-4764-afd9-e7fe62dd1ec4",
   "metadata": {},
   "outputs": [
    {
     "data": {
      "text/plain": [
       "dtype('uint8')"
      ]
     },
     "execution_count": 2,
     "metadata": {},
     "output_type": "execute_result"
    }
   ],
   "source": [
    "train_images.dtype"
   ]
  },
  {
   "cell_type": "code",
   "execution_count": 3,
   "id": "29d00a1c-e98e-40ab-aa82-ccd97e1bdc47",
   "metadata": {},
   "outputs": [
    {
     "name": "stdout",
     "output_type": "stream",
     "text": [
      "float32\n"
     ]
    }
   ],
   "source": [
    "train_images = (train_images.astype('float32') - 127.5) / 127.5 # -1~1 사이로 표준화\n",
    "print(train_images.dtype)"
   ]
  },
  {
   "cell_type": "code",
   "execution_count": 4,
   "id": "515ff020-fe30-4fdf-b5eb-795574c8139e",
   "metadata": {},
   "outputs": [
    {
     "name": "stdout",
     "output_type": "stream",
     "text": [
      "(60000, 28, 28, 1)\n"
     ]
    }
   ],
   "source": [
    "import numpy as np\n",
    "train_images = np.expand_dims(train_images, axis=-1)\n",
    "print(train_images.shape) # channel last 이미지 데이터"
   ]
  },
  {
   "cell_type": "markdown",
   "id": "72ba140c-5d7e-477f-8f85-b7b8109bba98",
   "metadata": {},
   "source": [
    "# generator, discriminator 모델 정의"
   ]
  },
  {
   "cell_type": "code",
   "execution_count": 5,
   "id": "8d0a983e-7585-4aaa-b753-e4bd287bea0b",
   "metadata": {
    "scrolled": true
   },
   "outputs": [
    {
     "name": "stdout",
     "output_type": "stream",
     "text": [
      "Model: \"sequential\"\n",
      "_________________________________________________________________\n",
      " Layer (type)                Output Shape              Param #   \n",
      "=================================================================\n",
      " dense (Dense)               (None, 12544)             1254400   \n",
      "                                                                 \n",
      " batch_normalization (Batch  (None, 12544)             50176     \n",
      " Normalization)                                                  \n",
      "                                                                 \n",
      " reshape (Reshape)           (None, 7, 7, 256)         0         \n",
      "                                                                 \n",
      " conv2d_transpose (Conv2DTr  (None, 7, 7, 128)         819328    \n",
      " anspose)                                                        \n",
      "                                                                 \n",
      " batch_normalization_1 (Bat  (None, 7, 7, 128)         512       \n",
      " chNormalization)                                                \n",
      "                                                                 \n",
      " conv2d_transpose_1 (Conv2D  (None, 14, 14, 64)        204864    \n",
      " Transpose)                                                      \n",
      "                                                                 \n",
      " batch_normalization_2 (Bat  (None, 14, 14, 64)        256       \n",
      " chNormalization)                                                \n",
      "                                                                 \n",
      " conv2d_transpose_2 (Conv2D  (None, 28, 28, 1)         1601      \n",
      " Transpose)                                                      \n",
      "                                                                 \n",
      "=================================================================\n",
      "Total params: 2331137 (8.89 MB)\n",
      "Trainable params: 2305665 (8.80 MB)\n",
      "Non-trainable params: 25472 (99.50 KB)\n",
      "_________________________________________________________________\n"
     ]
    }
   ],
   "source": [
    "import tensorflow as tf\n",
    "from tensorflow.keras import layers\n",
    "from tensorflow.keras.models import Sequential\n",
    "\n",
    "generator_model = Sequential([\n",
    "    layers.Input(shape=(100,)),\n",
    "    layers.Dense(7*7*256, use_bias=False, activation='elu'),\n",
    "    layers.BatchNormalization(),\n",
    "\n",
    "    layers.Reshape((7,7,256)),\n",
    "    layers.Conv2DTranspose(128, (5,5), padding='same', activation='elu'),\n",
    "    layers.BatchNormalization(),\n",
    "\n",
    "    layers.Conv2DTranspose(64, (5,5), strides=(2,2), padding='same', activation='elu'),\n",
    "    layers.BatchNormalization(),\n",
    "\n",
    "    layers.Conv2DTranspose(1, (5,5), strides=(2,2), padding='same', activation='tanh')\n",
    "])\n",
    "generator_model.summary()"
   ]
  },
  {
   "cell_type": "code",
   "execution_count": 6,
   "id": "8e42acf7-4b35-4f6e-92f6-2bdc5e733d8a",
   "metadata": {},
   "outputs": [
    {
     "name": "stdout",
     "output_type": "stream",
     "text": [
      "Model: \"sequential_1\"\n",
      "_________________________________________________________________\n",
      " Layer (type)                Output Shape              Param #   \n",
      "=================================================================\n",
      " conv2d (Conv2D)             (None, 14, 14, 64)        1664      \n",
      "                                                                 \n",
      " dropout (Dropout)           (None, 14, 14, 64)        0         \n",
      "                                                                 \n",
      " conv2d_1 (Conv2D)           (None, 7, 7, 128)         204928    \n",
      "                                                                 \n",
      " dropout_1 (Dropout)         (None, 7, 7, 128)         0         \n",
      "                                                                 \n",
      " flatten (Flatten)           (None, 6272)              0         \n",
      "                                                                 \n",
      " dense_1 (Dense)             (None, 1)                 6273      \n",
      "                                                                 \n",
      "=================================================================\n",
      "Total params: 212865 (831.50 KB)\n",
      "Trainable params: 212865 (831.50 KB)\n",
      "Non-trainable params: 0 (0.00 Byte)\n",
      "_________________________________________________________________\n"
     ]
    }
   ],
   "source": [
    "discriminator_model = Sequential([\n",
    "    layers.Input(shape=(28,28,1)),\n",
    "    layers.Conv2D(64, (5,5), strides=(2,2), padding='same', activation='elu'),\n",
    "    layers.Dropout(0.3),\n",
    "\n",
    "    layers.Conv2D(128, (5,5), strides=(2,2), padding='same', activation='elu'),\n",
    "    layers.Dropout(0.3),\n",
    "\n",
    "    layers.Flatten(),\n",
    "    layers.Dense(1)\n",
    "])\n",
    "discriminator_model.summary()"
   ]
  },
  {
   "cell_type": "markdown",
   "id": "72ee56e9-a642-4303-b755-3286d41676de",
   "metadata": {},
   "source": [
    "# 손실함수와 옵티마이저 정의"
   ]
  },
  {
   "cell_type": "code",
   "execution_count": 7,
   "id": "8f8efef8-f954-4db8-b696-8d17bb865f5b",
   "metadata": {},
   "outputs": [],
   "source": [
    "cross_entropy = tf.keras.losses.BinaryCrossentropy(from_logits=True)\n",
    "\n",
    "def generator_loss(fake_output):\n",
    "    return cross_entropy(tf.ones_like(fake_output), fake_output)\n",
    "\n",
    "def discriminator_loss(real_output, fake_output):\n",
    "    real_loss = cross_entropy(tf.ones_like(real_output), real_output)\n",
    "    fake_loss = cross_entropy(tf.ones_like(fake_output), fake_output)\n",
    "    return real_loss + fake_loss\n",
    "\n",
    "generator_optimizer = tf.keras.optimizers.Adam()\n",
    "discriminator_optimizer = tf.keras.optimizers.Adam()"
   ]
  },
  {
   "cell_type": "markdown",
   "id": "f0b3d533-b765-40f2-9f01-d77bd1856879",
   "metadata": {},
   "source": [
    "# 배치 데이터 준비"
   ]
  },
  {
   "cell_type": "code",
   "execution_count": 8,
   "id": "7baf6ec8-efdf-41bc-a626-c9e326904e23",
   "metadata": {},
   "outputs": [
    {
     "name": "stdout",
     "output_type": "stream",
     "text": [
      "<_BatchDataset element_spec=TensorSpec(shape=(None, 28, 28, 1), dtype=tf.float32, name=None)>\n"
     ]
    }
   ],
   "source": [
    "train_dataset = tf.data.Dataset.from_tensor_slices(train_images).batch(256)\n",
    "print(train_dataset)"
   ]
  }
 ],
 "metadata": {
  "kernelspec": {
   "display_name": "tf2.14",
   "language": "python",
   "name": "tf2.14"
  },
  "language_info": {
   "codemirror_mode": {
    "name": "ipython",
    "version": 3
   },
   "file_extension": ".py",
   "mimetype": "text/x-python",
   "name": "python",
   "nbconvert_exporter": "python",
   "pygments_lexer": "ipython3",
   "version": "3.11.9"
  }
 },
 "nbformat": 4,
 "nbformat_minor": 5
}
