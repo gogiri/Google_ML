{
 "cells": [
  {
   "cell_type": "markdown",
   "id": "eed55de1-8bb3-4a6f-aa4a-0a9cbe2e69c0",
   "metadata": {},
   "source": [
    "# 데이터 불러오기"
   ]
  },
  {
   "cell_type": "code",
   "execution_count": 1,
   "id": "3a8427f7-8251-49ed-aaa7-22cff65ad284",
   "metadata": {},
   "outputs": [],
   "source": [
    "from datasets import load_dataset"
   ]
  },
  {
   "cell_type": "code",
   "execution_count": 2,
   "id": "e04dffa6-08a5-44ef-87a9-2f73322cdb67",
   "metadata": {},
   "outputs": [],
   "source": [
    "# pip install tqdm\n",
    "# pip install ipywidgets\n",
    "dataset = load_dataset(\"imdb\")"
   ]
  },
  {
   "cell_type": "code",
   "execution_count": 3,
   "id": "bdbc4b36-01a7-4545-84c9-0446102071df",
   "metadata": {},
   "outputs": [
    {
     "data": {
      "text/plain": [
       "datasets.dataset_dict.DatasetDict"
      ]
     },
     "execution_count": 3,
     "metadata": {},
     "output_type": "execute_result"
    }
   ],
   "source": [
    "type(dataset)"
   ]
  },
  {
   "cell_type": "code",
   "execution_count": 4,
   "id": "60d9b6a3-8ceb-4856-b91a-b6d1f1891fad",
   "metadata": {
    "scrolled": true
   },
   "outputs": [
    {
     "name": "stdout",
     "output_type": "stream",
     "text": [
      "DatasetDict({\n",
      "    train: Dataset({\n",
      "        features: ['text', 'label'],\n",
      "        num_rows: 25000\n",
      "    })\n",
      "    test: Dataset({\n",
      "        features: ['text', 'label'],\n",
      "        num_rows: 25000\n",
      "    })\n",
      "    unsupervised: Dataset({\n",
      "        features: ['text', 'label'],\n",
      "        num_rows: 50000\n",
      "    })\n",
      "})\n"
     ]
    }
   ],
   "source": [
    "print(dataset) # __str__(self)"
   ]
  },
  {
   "cell_type": "code",
   "execution_count": 5,
   "id": "4edd0f24-82d2-4d34-82e5-a6b464094f16",
   "metadata": {},
   "outputs": [],
   "source": [
    "dataset = dataset.shuffle(seed=7902)"
   ]
  },
  {
   "cell_type": "code",
   "execution_count": 6,
   "id": "a648eed5-b906-424c-bcfb-9e225f8618c9",
   "metadata": {},
   "outputs": [],
   "source": [
    "train_dataset = dataset['train']\n",
    "test_dataset = dataset['test']"
   ]
  },
  {
   "cell_type": "code",
   "execution_count": 7,
   "id": "709e7224-37ba-49b2-af57-f3f14c362ab8",
   "metadata": {
    "scrolled": true
   },
   "outputs": [
    {
     "name": "stdout",
     "output_type": "stream",
     "text": [
      "Dataset({\n",
      "    features: ['text', 'label'],\n",
      "    num_rows: 25000\n",
      "})\n"
     ]
    }
   ],
   "source": [
    "type(train_dataset)\n",
    "print(train_dataset) # __str__(self)"
   ]
  },
  {
   "cell_type": "markdown",
   "id": "ce04367c-e958-4795-bab5-7ec4516d0a61",
   "metadata": {},
   "source": [
    "# 데이터 전처리"
   ]
  },
  {
   "cell_type": "code",
   "execution_count": 8,
   "id": "4975b051-760b-4262-b9e2-c71d5eb1bbc7",
   "metadata": {},
   "outputs": [],
   "source": [
    "from transformers import BertTokenizer\n",
    "model_name = \"bert-base-uncased\"\n",
    "tokenizer = BertTokenizer.from_pretrained(model_name)"
   ]
  },
  {
   "cell_type": "code",
   "execution_count": 9,
   "id": "30aec67e-1a83-42ee-afbd-793f43c59fe9",
   "metadata": {},
   "outputs": [
    {
     "data": {
      "application/vnd.jupyter.widget-view+json": {
       "model_id": "adde24d1961b4ed19ddeb003323387d5",
       "version_major": 2,
       "version_minor": 0
      },
      "text/plain": [
       "Map:   0%|          | 0/25000 [00:00<?, ? examples/s]"
      ]
     },
     "metadata": {},
     "output_type": "display_data"
    },
    {
     "data": {
      "application/vnd.jupyter.widget-view+json": {
       "model_id": "0fb5600920954328aa9b5b94a54b31fb",
       "version_major": 2,
       "version_minor": 0
      },
      "text/plain": [
       "Map:   0%|          | 0/25000 [00:00<?, ? examples/s]"
      ]
     },
     "metadata": {},
     "output_type": "display_data"
    }
   ],
   "source": [
    "# 전처리 함수 정의\n",
    "def preprocess_function(examples):\n",
    "    return tokenizer(examples['text'], padding='max_length', truncation=True)\n",
    "\n",
    "# 데이터셋 전처리\n",
    "train_dataset = train_dataset.map(preprocess_function, batched=True)\n",
    "test_dataset = test_dataset.map(preprocess_function, batched=True)"
   ]
  },
  {
   "cell_type": "markdown",
   "id": "948ab51d-88ec-4e7d-a154-7ecb6ef80b3f",
   "metadata": {},
   "source": [
    "# 모델 불러오기"
   ]
  },
  {
   "cell_type": "code",
   "execution_count": 10,
   "id": "db900090-d8cc-40e6-ae7d-91e2959e0f5e",
   "metadata": {},
   "outputs": [
    {
     "name": "stderr",
     "output_type": "stream",
     "text": [
      "All PyTorch model weights were used when initializing TFBertForSequenceClassification.\n",
      "\n",
      "Some weights or buffers of the TF 2.0 model TFBertForSequenceClassification were not initialized from the PyTorch model and are newly initialized: ['classifier.weight', 'classifier.bias']\n",
      "You should probably TRAIN this model on a down-stream task to be able to use it for predictions and inference.\n"
     ]
    }
   ],
   "source": [
    "from transformers import TFBertForSequenceClassification\n",
    "model = TFBertForSequenceClassification.from_pretrained(model_name, num_labels=2)"
   ]
  },
  {
   "cell_type": "code",
   "execution_count": 11,
   "id": "40de1a84-93a1-4358-af15-322888fe258a",
   "metadata": {},
   "outputs": [],
   "source": [
    "import tensorflow as tf\n",
    "# loss = tf.keras.losses.SparseCategoricalCrossentropy(from_logits=True)\n",
    "# optimizer = tf.keras.optimizers.Adam(learning_rate=0.0001)\n",
    "# metric = tf.keras.metrics.SparseCategoricalAccuracy('accuracy')\n",
    "\n",
    "model.compile(loss='sparse_categorical_crossentropy',\n",
    "              optimizer='adam', metrics=['accuracy'])"
   ]
  },
  {
   "cell_type": "code",
   "execution_count": 12,
   "id": "cbc91564-8412-4b5c-805c-ab4e833b83fa",
   "metadata": {},
   "outputs": [
    {
     "name": "stdout",
     "output_type": "stream",
     "text": [
      "<class 'datasets.arrow_dataset.Dataset'>\n",
      "Dataset({\n",
      "    features: ['text', 'label', 'input_ids', 'token_type_ids', 'attention_mask'],\n",
      "    num_rows: 25000\n",
      "})\n"
     ]
    }
   ],
   "source": [
    "print(type(train_dataset))\n",
    "print(train_dataset)"
   ]
  },
  {
   "cell_type": "code",
   "execution_count": 13,
   "id": "b79e7a81-ff02-4b68-aa16-944445e2d3c1",
   "metadata": {},
   "outputs": [],
   "source": [
    "ids = train_dataset['input_ids']"
   ]
  },
  {
   "cell_type": "code",
   "execution_count": 14,
   "id": "8e549f9e-0fae-4921-9db5-67e70926d3fa",
   "metadata": {
    "scrolled": true
   },
   "outputs": [
    {
     "name": "stdout",
     "output_type": "stream",
     "text": [
      "[[101, 1000, 3889, 1000, 1006, 3782, 15107, 1007, 29438, 1037, 2177, 2013, 2152, 2082, 2005, 1037, 10301, 2012, 1996, 6644, 3295, 2073, 2010, 5519, 2567, 14008, 2253, 4394, 1012, 2096, 2027, 2024, 2045, 1010, 1037, 16360, 3775, 15204, 6492, 1999, 1996, 4338, 1997, 1037, 2158, 1006, 6966, 2033, 1037, 2843, 1997, 1996, 12267, 2386, 2013, 6492, 2013, 1996, 2304, 15825, 1007, 26751, 2015, 1999, 1996, 9917, 10549, 1996, 2157, 2051, 2000, 4060, 2068, 4237, 2028, 2011, 2028, 1012, 1037, 28988, 1010, 9155, 25231, 1011, 2828, 2051, 2931, 2919, 1011, 4632, 1010, 10645, 1006, 5252, 5972, 2239, 1007, 2038, 2019, 5230, 2510, 15742, 2016, 6078, 7885, 1999, 1010, 2096, 2009, 2036, 4240, 2004, 1037, 2173, 1997, 3808, 2013, 1996, 2518, 2006, 1996, 6703, 29216, 1012, 10645, 4282, 2062, 2084, 2016, 1005, 1055, 4129, 1006, 2016, 2036, 4265, 1996, 3279, 1997, 1037, 2775, 1007, 1010, 2021, 2045, 1005, 1055, 2178, 21160, 9792, 2087, 1997, 1996, 2177, 2031, 2053, 2801, 1997, 1012, 2023, 6492, 2453, 2074, 2022, 2062, 2529, 2084, 2027, 5382, 1012, 1012, 1998, 2009, 1005, 1055, 2280, 4767, 2453, 8328, 2070, 2422, 2006, 1037, 17575, 2069, 2028, 2060, 2711, 2038, 2042, 6318, 2144, 14008, 1005, 2331, 1012, 10645, 4324, 1996, 3145, 2000, 2116, 1997, 1996, 15572, 2008, 19829, 2004, 1996, 2177, 3464, 2379, 1996, 6644, 1012, 1026, 7987, 1013, 1028, 1026, 7987, 1013, 1028, 16047, 1010, 1037, 2312, 4664, 1997, 1996, 2143, 12237, 2185, 2013, 1996, 6492, 2029, 29195, 1999, 1996, 2250, 2096, 2057, 2036, 2156, 1037, 26710, 3898, 2043, 2057, 2298, 2083, 2009, 1005, 1055, 2159, 1012, 1996, 2143, 2038, 11026, 1005, 1055, 3636, 1011, 2828, 11463, 7716, 14672, 14606, 2029, 2411, 17666, 2121, 2151, 2613, 6980, 2008, 3791, 2000, 3857, 1999, 1037, 2210, 6071, 3185, 1012, 1996, 3257, 2003, 2200, 20857, 2877, 2000, 1037, 4659, 10634, 3325, 2612, 1997, 12005, 26243, 2075, 29421, 1012, 1996, 3459, 2003, 2738, 2166, 1011, 2625, 1998, 4895, 18447, 18702, 3436, 1012, 3492, 8538, 4519, 1006, 1996, 9666, 12661, 1007, 2453, 2022, 1996, 2069, 4009, 2005, 2023, 2143, 1012, 102, 0, 0, 0, 0, 0, 0, 0, 0, 0, 0, 0, 0, 0, 0, 0, 0, 0, 0, 0, 0, 0, 0, 0, 0, 0, 0, 0, 0, 0, 0, 0, 0, 0, 0, 0, 0, 0, 0, 0, 0, 0, 0, 0, 0, 0, 0, 0, 0, 0, 0, 0, 0, 0, 0, 0, 0, 0, 0, 0, 0, 0, 0, 0, 0, 0, 0, 0, 0, 0, 0, 0, 0, 0, 0, 0, 0, 0, 0, 0, 0, 0, 0, 0, 0, 0, 0, 0, 0, 0, 0, 0, 0, 0, 0, 0, 0, 0, 0, 0, 0, 0, 0, 0, 0, 0, 0, 0, 0, 0, 0, 0, 0, 0, 0, 0, 0, 0, 0, 0, 0, 0, 0, 0, 0, 0, 0, 0, 0, 0, 0, 0, 0, 0, 0, 0, 0, 0, 0, 0, 0, 0, 0, 0, 0, 0, 0, 0, 0, 0, 0, 0, 0, 0, 0, 0, 0, 0, 0, 0, 0, 0, 0, 0, 0, 0, 0, 0, 0, 0, 0, 0, 0, 0, 0, 0, 0]]\n"
     ]
    }
   ],
   "source": [
    "print(ids[:1])"
   ]
  },
  {
   "cell_type": "code",
   "execution_count": 15,
   "id": "47e0fbf4-3306-4049-9be9-fb00bd203cd9",
   "metadata": {},
   "outputs": [
    {
     "name": "stdout",
     "output_type": "stream",
     "text": [
      "CPU times: total: 172 ms\n",
      "Wall time: 10.5 s\n"
     ]
    }
   ],
   "source": [
    "%%time\n",
    "import numpy as np\n",
    "\n",
    "# train_input_ids = np.array([data['input_ids'] for data in train_dataset])\n",
    "# train_attention_mask = np.array([data['attention_mask'] for data in train_dataset])\n",
    "# train_token_type_ids = np.array([data['token_type_ids'] for data in train_dataset])\n",
    "train_input_ids = np.array(train_dataset['input_ids'])\n",
    "train_attention_mask = np.array(train_dataset['attention_mask'])\n",
    "train_token_type_ids = np.array(train_dataset['token_type_ids'])\n",
    "train_labels = np.array(train_dataset['label'])"
   ]
  },
  {
   "cell_type": "code",
   "execution_count": null,
   "id": "e69fc75b-8aef-407b-b84c-7e5b5f4399e8",
   "metadata": {},
   "outputs": [
    {
     "name": "stdout",
     "output_type": "stream",
     "text": [
      "Epoch 1/3\n",
      "   6/1563 [..............................] - ETA: 7:57:33 - loss: 1.6298 - accuracy: 0.5104"
     ]
    }
   ],
   "source": [
    "model.fit({'input_ids': train_input_ids,\n",
    "           'attention_mask': train_attention_mask,\n",
    "           'token_type_ids': train_token_type_ids},\n",
    "          train_labels,\n",
    "          batch_size=16, epochs=3)\n",
    "# ResourceExhaustedError는 주로 메모리가 부족해서 발생합니다.\n",
    "# 해결 1. 메모리 크기를 늘린다.\n",
    "# 해결 2. 더 작은 모델을 사용한다.\n",
    "# 해결 3. 배치크기를 줄인다."
   ]
  },
  {
   "cell_type": "code",
   "execution_count": null,
   "id": "f4903c1c-8047-4be8-b4ba-448ae3cadc3c",
   "metadata": {},
   "outputs": [],
   "source": [
    "# model.save_weights('imdb-transformer-tf-weight.h5')"
   ]
  },
  {
   "cell_type": "code",
   "execution_count": null,
   "id": "0ef87c50-9e92-49c3-b080-26abb2b8c680",
   "metadata": {},
   "outputs": [],
   "source": [
    "# model.load_weights('imdb-transformer-tf-weight.h5')"
   ]
  },
  {
   "cell_type": "code",
   "execution_count": null,
   "id": "26e428d8-99c4-4ac7-ade0-c9eaaf785eca",
   "metadata": {},
   "outputs": [],
   "source": [
    "results = model.evaluate({'input_ids': np.array(test_dataset['input_ids'][:160]),\n",
    "                          'attention_mask': np.array(test_dataset['attention_mask'][:160]),\n",
    "                          'token_type_ids': np.array(test_dataset['token_type_ids'][:160])},\n",
    "                         np.array(test_dataset['label'][:160]))"
   ]
  },
  {
   "cell_type": "code",
   "execution_count": null,
   "id": "8f0474f7-a750-453b-9f71-03bad82c3e83",
   "metadata": {},
   "outputs": [],
   "source": [
    "print(test_dataset['label'])"
   ]
  },
  {
   "cell_type": "code",
   "execution_count": null,
   "id": "033224f0-787b-4adc-b009-661e3289ea65",
   "metadata": {},
   "outputs": [],
   "source": []
  }
 ],
 "metadata": {
  "kernelspec": {
   "display_name": "tf2.14",
   "language": "python",
   "name": "tf2.14"
  },
  "language_info": {
   "codemirror_mode": {
    "name": "ipython",
    "version": 3
   },
   "file_extension": ".py",
   "mimetype": "text/x-python",
   "name": "python",
   "nbconvert_exporter": "python",
   "pygments_lexer": "ipython3",
   "version": "3.11.9"
  }
 },
 "nbformat": 4,
 "nbformat_minor": 5
}
